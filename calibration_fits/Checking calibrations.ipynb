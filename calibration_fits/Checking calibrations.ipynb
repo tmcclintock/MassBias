{
 "cells": [
  {
   "cell_type": "markdown",
   "metadata": {},
   "source": [
    "# Checking calibrations\n",
    "\n",
    "Here I am just checking the calibrations measured for all $z-\\lambda$ bins."
   ]
  },
  {
   "cell_type": "code",
   "execution_count": 1,
   "metadata": {},
   "outputs": [],
   "source": [
    "import numpy as np\n",
    "import matplotlib.pyplot as plt\n",
    "import scipy.optimize as op\n",
    "%matplotlib inline\n",
    "plt.rc(\"errorbar\", capsize=3)"
   ]
  },
  {
   "cell_type": "code",
   "execution_count": 2,
   "metadata": {},
   "outputs": [
    {
     "name": "stdout",
     "output_type": "stream",
     "text": [
      "(6, 16)\n"
     ]
    }
   ],
   "source": [
    "sig = 0.4\n",
    "path = \"result_%0.2fsigintr.npy\"%sig\n",
    "data = np.load(path)\n",
    "print(data.shape)\n",
    "cs = ['maroon','red','blue','cyan']\n",
    "zs = [1.0, 0.5, 0.25, 0.]"
   ]
  },
  {
   "cell_type": "code",
   "execution_count": 3,
   "metadata": {},
   "outputs": [],
   "source": [
    "def add_points(ax, sigma=None):\n",
    "    for i in range(4):\n",
    "        for j in range(4):\n",
    "            h = i*4+j\n",
    "            lam = data[3,h]\n",
    "            c = data[4,h]\n",
    "            ce = data[5,h]\n",
    "            if sigma is not None:\n",
    "                ce = sigma\n",
    "            if j == 0:\n",
    "                ax.errorbar(lam, c, ce, color=cs[i], marker='.', label=\"z=%.2f\"%zs[i], ls='')\n",
    "            else:\n",
    "                ax.errorbar(lam, c, ce, color=cs[i], marker='.')\n",
    "    ax.set_ylim(0.9, 1.15)\n",
    "    ax.legend(loc=\"upper left\")"
   ]
  },
  {
   "cell_type": "markdown",
   "metadata": {},
   "source": [
    "# Modeling the calibration"
   ]
  },
  {
   "cell_type": "code",
   "execution_count": 4,
   "metadata": {},
   "outputs": [],
   "source": [
    "def lnlike(params, args, ret_model=False):\n",
    "    C0, alpha, beta, sigcal = params\n",
    "    if sigcal < 0: return -1e99\n",
    "    lams = args['lams']\n",
    "    zs = args['zs']\n",
    "    C = args['C']\n",
    "    Cerr = args['Cerr']\n",
    "    model = C0*(lams/30.)**alpha * ((1+zs)/1.5)**beta\n",
    "    if ret_model:\n",
    "        return model\n",
    "    X = C - model\n",
    "    LL = 0\n",
    "    for i in range(len(X)):\n",
    "        for j in range(len(X[0])):\n",
    "            LL += -0.5*np.log(sigcal**2)-0.5*X[i,j]**2/sigcal**2\n",
    "    return LL"
   ]
  },
  {
   "cell_type": "code",
   "execution_count": 5,
   "metadata": {},
   "outputs": [],
   "source": [
    "zs = [1.0, 0.5, 0.25, 0.]\n",
    "zarr = np.zeros((4,4))\n",
    "lamarr = np.zeros((4,4))\n",
    "C = np.zeros((4,4))\n",
    "Ce = np.zeros((4,4))\n",
    "for i in range(16):\n",
    "    zarr[i%4, i/4] = zs[i%4]\n",
    "    lamarr[i%4, i/4] = data[3, i]\n",
    "    C[i%4, i/4] = data[4,i]\n",
    "    Ce[i%4, i/4] = data[5,i]\n",
    "args = {\"lams\": lamarr, \"zs\":zarr, \"C\":C, \"Cerr\":Ce}"
   ]
  },
  {
   "cell_type": "code",
   "execution_count": 6,
   "metadata": {},
   "outputs": [
    {
     "name": "stdout",
     "output_type": "stream",
     "text": [
      "-0.009598898676440438\n",
      "      fun: -62.9436771585577\n",
      " hess_inv: array([[ 4.94273565e-01, -2.04480893e-01,  3.62953381e-02,\n",
      "        -2.56641469e+01],\n",
      "       [-2.04480893e-01,  9.19491420e-01,  1.25732829e-02,\n",
      "        -1.30756130e+01],\n",
      "       [ 3.62953381e-02,  1.25732829e-02,  9.99431927e-01,\n",
      "         4.45690901e+00],\n",
      "       [-2.56641469e+01, -1.30756130e+01,  4.45690901e+00,\n",
      "         2.05602831e+03]])\n",
      "      jac: array([699.78307676, 311.46815681, -77.86123323,  26.87309313])\n",
      "  message: 'Desired error not necessarily achieved due to precision loss.'\n",
      "     nfev: 104\n",
      "      nit: 1\n",
      "     njev: 15\n",
      "   status: 2\n",
      "  success: False\n",
      "        x: array([1.03214969, 0.03510477, 0.01565236, 0.01198723])\n"
     ]
    }
   ],
   "source": [
    "guess = [1.0, 0.02 ,0.02, 1.0]\n",
    "print(lnlike(guess, args))\n",
    "nll = lambda *args: -lnlike(*args)\n",
    "result = op.minimize(nll, guess, args=args)\n",
    "cov = result['hess_inv']\n",
    "print result"
   ]
  },
  {
   "cell_type": "code",
   "execution_count": 7,
   "metadata": {},
   "outputs": [
    {
     "data": {
      "text/plain": [
       "(0.95, 1.15)"
      ]
     },
     "execution_count": 7,
     "metadata": {},
     "output_type": "execute_result"
    },
    {
     "data": {
      "image/png": "[encoded data removed]",
      "text/plain": [
       "<Figure size 432x288 with 1 Axes>"
      ]
     },
     "metadata": {
      "needs_background": "light"
     },
     "output_type": "display_data"
    }
   ],
   "source": [
    "fig, ax = plt.subplots(1,1)\n",
    "l = np.linspace(20,90)\n",
    "plot_args = args.copy()\n",
    "for i,z in enumerate(zs):\n",
    "    plot_args['lams'] = l\n",
    "    plot_args['zs'] = z\n",
    "    model = lnlike(result.x, plot_args, True)\n",
    "    ax.plot(l, model, c=cs[i])\n",
    "add_points(ax, result.x[-1])\n",
    "ax.set_ylim(.95,1.15)"
   ]
  },
  {
   "cell_type": "code",
   "execution_count": null,
   "metadata": {},
   "outputs": [],
   "source": []
  }
 ],
 "metadata": {
  "kernelspec": {
   "display_name": "Python 2",
   "language": "python",
   "name": "python2"
  },
  "language_info": {
   "codemirror_mode": {
    "name": "ipython",
    "version": 2
   },
   "file_extension": ".py",
   "mimetype": "text/x-python",
   "name": "python",
   "nbconvert_exporter": "python",
   "pygments_lexer": "ipython2",
   "version": "2.7.15"
  }
 },
 "nbformat": 4,
 "nbformat_minor": 2
}
