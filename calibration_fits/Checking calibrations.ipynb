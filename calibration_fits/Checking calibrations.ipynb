{
 "cells": [
  {
   "cell_type": "markdown",
   "metadata": {},
   "source": [
    "# Checking calibrations\n",
    "\n",
    "Here I am just checking the calibrations measured for all $z-\\lambda$ bins."
   ]
  },
  {
   "cell_type": "code",
   "execution_count": 6,
   "metadata": {},
   "outputs": [],
   "source": [
    "import numpy as np\n",
    "import matplotlib.pyplot as plt\n",
    "%matplotlib inline\n",
    "plt.rc(\"errorbar\", capsize=3)"
   ]
  },
  {
   "cell_type": "code",
   "execution_count": 13,
   "metadata": {},
   "outputs": [
    {
     "name": "stdout",
     "output_type": "stream",
     "text": [
      "(6, 16)\n"
     ]
    }
   ],
   "source": [
    "sig = 0.05\n",
    "path = \"result_%0.2fsigintr.npy\"%sig\n",
    "data = np.load(path)\n",
    "print(data.shape)\n",
    "cs = ['maroon','red','blue','cyan']\n",
    "zs = [1.0, 0.5, 0.25, 0.]"
   ]
  },
  {
   "cell_type": "code",
   "execution_count": 14,
   "metadata": {},
   "outputs": [
    {
     "data": {
      "text/plain": [
       "<matplotlib.legend.Legend at 0x11fcdd450>"
      ]
     },
     "execution_count": 14,
     "metadata": {},
     "output_type": "execute_result"
    },
    {
     "data": {
      "image/png": "[encoded data removed]",
      "text/plain": [
       "<Figure size 432x288 with 1 Axes>"
      ]
     },
     "metadata": {
      "needs_background": "light"
     },
     "output_type": "display_data"
    }
   ],
   "source": [
    "for i in range(4):\n",
    "    for j in range(4):\n",
    "        h = i*4+j\n",
    "        lam = data[3,h]\n",
    "        c = data[4,h]\n",
    "        ce = data[5,h]\n",
    "        if j == 0:\n",
    "            plt.errorbar(lam, c, ce, color=cs[i], marker='.', label=\"z=%.2f\"%zs[i])\n",
    "        else:\n",
    "            plt.errorbar(lam, c, ce, color=cs[i], marker='.')\n",
    "plt.ylim(0.9, 1.4)\n",
    "plt.legend(loc=\"upper left\")"
   ]
  },
  {
   "cell_type": "code",
   "execution_count": null,
   "metadata": {},
   "outputs": [],
   "source": []
  }
 ],
 "metadata": {
  "kernelspec": {
   "display_name": "Python 2",
   "language": "python",
   "name": "python2"
  },
  "language_info": {
   "codemirror_mode": {
    "name": "ipython",
    "version": 2
   },
   "file_extension": ".py",
   "mimetype": "text/x-python",
   "name": "python",
   "nbconvert_exporter": "python",
   "pygments_lexer": "ipython2",
   "version": "2.7.15"
  }
 },
 "nbformat": 4,
 "nbformat_minor": 2
}
